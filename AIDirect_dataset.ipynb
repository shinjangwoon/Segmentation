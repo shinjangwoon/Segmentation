{
  "nbformat": 4,
  "nbformat_minor": 0,
  "metadata": {
    "accelerator": "GPU",
    "colab": {
      "name": "AIDirect_dataset.ipynb",
      "provenance": [],
      "collapsed_sections": [],
      "machine_shape": "hm",
      "include_colab_link": true
    },
    "kernelspec": {
      "display_name": "Python 3",
      "name": "python3"
    },
    "language_info": {
      "name": "python"
    }
  },
  "cells": [
    {
      "cell_type": "markdown",
      "metadata": {
        "id": "view-in-github",
        "colab_type": "text"
      },
      "source": [
        "<a href=\"https://colab.research.google.com/github/shinjangwoon/Segmentation/blob/master/AIDirect_dataset.ipynb\" target=\"_parent\"><img src=\"https://colab.research.google.com/assets/colab-badge.svg\" alt=\"Open In Colab\"/></a>"
      ]
    },
    {
      "cell_type": "code",
      "metadata": {
        "colab": {
          "base_uri": "https://localhost:8080/"
        },
        "id": "Q3I1Sbbrb30n",
        "outputId": "3392b59d-c4fb-44bf-c9f7-c6fe1dc4affe"
      },
      "source": [
        "from google.colab import drive\n",
        "drive.mount('/content/drive')"
      ],
      "execution_count": 1,
      "outputs": [
        {
          "output_type": "stream",
          "name": "stdout",
          "text": [
            "Drive already mounted at /content/drive; to attempt to forcibly remount, call drive.mount(\"/content/drive\", force_remount=True).\n"
          ]
        }
      ]
    },
    {
      "cell_type": "code",
      "metadata": {
        "colab": {
          "base_uri": "https://localhost:8080/"
        },
        "id": "gj7rqrTadKH3",
        "outputId": "795f1dee-edf8-4e5b-a62f-206fa0681241"
      },
      "source": [
        "cd /content/drive/Shareddrives/segmentation/train_dataset(update)/train_dataset/"
      ],
      "execution_count": 2,
      "outputs": [
        {
          "output_type": "stream",
          "name": "stdout",
          "text": [
            "/content/drive/Shareddrives/segmentation/train_dataset(update)/train_dataset\n"
          ]
        }
      ]
    },
    {
      "cell_type": "code",
      "metadata": {
        "colab": {
          "base_uri": "https://localhost:8080/"
        },
        "id": "lxlYIThsd60O",
        "outputId": "ec3b0f80-d843-48f4-93ad-8afa0b3529ac"
      },
      "source": [
        "ls"
      ],
      "execution_count": 3,
      "outputs": [
        {
          "output_type": "stream",
          "name": "stdout",
          "text": [
            "\u001b[0m\u001b[01;34mballoon\u001b[0m/                          download.sh       \u001b[01;34mtrain_mask\u001b[0m/\n",
            "balloon_dataset.zip               environment.yaml  \u001b[01;34mval2014\u001b[0m/\n",
            "convert.py                        \u001b[01;34m__MACOSX\u001b[0m/         val2014.zip\n",
            "convert.sh                        requirements.txt  val2014.zip.1\n",
            "densepose_coco_2014_minival.json  \u001b[01;34mtrain2014\u001b[0m/        \u001b[01;34mval_mask\u001b[0m/\n",
            "densepose_coco_2014_train.json    train2014.zip\n",
            "Dockerfile                        train2014.zip.1\n"
          ]
        }
      ]
    },
    {
      "cell_type": "code",
      "metadata": {
        "colab": {
          "base_uri": "https://localhost:8080/"
        },
        "id": "iRCwg2ZAeFqQ",
        "outputId": "a21be6f5-f88f-4f48-8f85-e8cf888c89a7"
      },
      "source": [
        "!bash download.sh \n"
      ],
      "execution_count": null,
      "outputs": [
        {
          "output_type": "stream",
          "name": "stdout",
          "text": [
            "Download Densepose coco json\n",
            "--2021-11-03 14:14:55--  https://dl.fbaipublicfiles.com/densepose/densepose_coco_2014_train.json\n",
            "Resolving dl.fbaipublicfiles.com (dl.fbaipublicfiles.com)... 172.67.9.4, 104.22.74.142, 104.22.75.142, ...\n",
            "Connecting to dl.fbaipublicfiles.com (dl.fbaipublicfiles.com)|172.67.9.4|:443... connected.\n",
            "HTTP request sent, awaiting response... 200 OK\n",
            "Length: 551127946 (526M) [text/plain]\n",
            "Saving to: ‘densepose_coco_2014_train.json.1’\n",
            "\n",
            "densepose_coco_2014 100%[===================>] 525.60M  16.1MB/s    in 33s     \n",
            "\n",
            "2021-11-03 14:15:28 (16.0 MB/s) - ‘densepose_coco_2014_train.json.1’ saved [551127946/551127946]\n",
            "\n",
            "--2021-11-03 14:15:28--  https://dl.fbaipublicfiles.com/densepose/densepose_coco_2014_minival.json\n",
            "Resolving dl.fbaipublicfiles.com (dl.fbaipublicfiles.com)... 104.22.75.142, 172.67.9.4, 104.22.74.142, ...\n",
            "Connecting to dl.fbaipublicfiles.com (dl.fbaipublicfiles.com)|104.22.75.142|:443... connected.\n",
            "HTTP request sent, awaiting response... 200 OK\n",
            "Length: 31513391 (30M) [text/plain]\n",
            "Saving to: ‘densepose_coco_2014_minival.json.1’\n",
            "\n",
            "densepose_coco_2014 100%[===================>]  30.05M  26.0MB/s    in 1.2s    \n",
            "\n",
            "2021-11-03 14:15:30 (26.0 MB/s) - ‘densepose_coco_2014_minival.json.1’ saved [31513391/31513391]\n",
            "\n",
            "Download COCO 2014 train images\n",
            "--2021-11-03 14:15:30--  http://images.cocodataset.org/zips/train2014.zip\n",
            "Resolving images.cocodataset.org (images.cocodataset.org)... 52.217.17.148\n",
            "Connecting to images.cocodataset.org (images.cocodataset.org)|52.217.17.148|:80... connected.\n",
            "HTTP request sent, awaiting response... 200 OK\n",
            "Length: 13510573713 (13G) [application/zip]\n",
            "Saving to: ‘train2014.zip.2’\n",
            "\n",
            "train2014.zip.2      27%[====>               ]   3.41G  43.3MB/s    eta 3m 47s "
          ]
        }
      ]
    },
    {
      "cell_type": "code",
      "metadata": {
        "colab": {
          "base_uri": "https://localhost:8080/"
        },
        "id": "mQqN7Xboj1AG",
        "outputId": "7dbe7677-2c33-4cbb-a65a-881c17d33d54"
      },
      "source": [
        "!pip install -r requirements.txt"
      ],
      "execution_count": 5,
      "outputs": [
        {
          "output_type": "stream",
          "name": "stdout",
          "text": [
            "Fatal Python error: initsite: Failed to import the site module\n",
            "Traceback (most recent call last):\n",
            "  File \"/usr/lib/python3.7/site.py\", line 596, in <module>\n",
            "    main()\n",
            "  File \"/usr/lib/python3.7/site.py\", line 583, in main\n",
            "    known_paths = addsitepackages(known_paths)\n",
            "  File \"/usr/lib/python3.7/site.py\", line 366, in addsitepackages\n",
            "    addsitedir(sitedir, known_paths)\n",
            "  File \"/usr/lib/python3.7/site.py\", line 208, in addsitedir\n",
            "    names = os.listdir(sitedir)\n",
            "KeyboardInterrupt\n"
          ]
        }
      ]
    },
    {
      "cell_type": "code",
      "metadata": {
        "colab": {
          "base_uri": "https://localhost:8080/"
        },
        "id": "XFovnlXCj5d1",
        "outputId": "b74d9f02-b249-4696-ec8c-8c5c120efade"
      },
      "source": [
        "!bash convert.sh"
      ],
      "execution_count": null,
      "outputs": [
        {
          "output_type": "stream",
          "name": "stdout",
          "text": [
            "Extract Train data Segmentation Mask\n",
            "loading annotations into memory...\n"
          ]
        }
      ]
    },
    {
      "cell_type": "code",
      "metadata": {
        "id": "kvSifJms0gbK"
      },
      "source": [
        "ls"
      ],
      "execution_count": null,
      "outputs": []
    },
    {
      "cell_type": "code",
      "metadata": {
        "id": "dhhnAKNZe2DK"
      },
      "source": [
        "from sklearn.model_selection import train_test_split\n",
        "from glob import glob\n",
        "\n",
        "train_image = glob('./train2014/*.jpg')\n",
        "train_mask = glob('./train_mask/*.png')"
      ],
      "execution_count": null,
      "outputs": []
    },
    {
      "cell_type": "code",
      "metadata": {
        "id": "QVqnpb6fj12k"
      },
      "source": [
        "valid_image = glob('./val2014/*.jpg')\n",
        "valid_mask = glob('./val_mask/*.png')\n",
        "\n",
        "print(len(train_image), len(train_mask), len(valid_image), len(valid_mask))"
      ],
      "execution_count": null,
      "outputs": []
    },
    {
      "cell_type": "markdown",
      "metadata": {
        "id": "fxIuL_rgt8DH"
      },
      "source": [
        "#Img load test"
      ]
    },
    {
      "cell_type": "code",
      "metadata": {
        "id": "liZgty84rtza"
      },
      "source": [
        "ls"
      ],
      "execution_count": null,
      "outputs": []
    },
    {
      "cell_type": "code",
      "metadata": {
        "id": "XjWNtnuaqS8J"
      },
      "source": [
        "jsonTrain = glob('./val2014/densepose_coco_2014_minival.json')\n",
        "print(jsonTrain)"
      ],
      "execution_count": null,
      "outputs": []
    },
    {
      "cell_type": "code",
      "metadata": {
        "id": "yDi_yzAkp5oy"
      },
      "source": [
        "from pycocotools.coco import COCO\n",
        "import numpy as np\n",
        "import skimage.io as io\n",
        "import matplotlib.pyplot as plt\n",
        "import pylab\n",
        "pylab.rcParams['figure.figsize'] = (8.0, 10.0)"
      ],
      "execution_count": null,
      "outputs": []
    },
    {
      "cell_type": "code",
      "metadata": {
        "id": "jYBtCZSlp5l_"
      },
      "source": [
        "dataDir='./val2014'\n",
        "dataType='densepose_coco_2014_minival'\n",
        "annFile='{}/{}.json'.format(dataDir,dataType)\n",
        "print(annFile)"
      ],
      "execution_count": null,
      "outputs": []
    },
    {
      "cell_type": "code",
      "metadata": {
        "id": "SO0kiMAmp5ja"
      },
      "source": [
        "coco=COCO(annFile)"
      ],
      "execution_count": null,
      "outputs": []
    },
    {
      "cell_type": "code",
      "metadata": {
        "id": "spFSt6xJp5gA"
      },
      "source": [
        "cats = coco.loadCats(coco.getCatIds())\n",
        "nms=[cat['name'] for cat in cats]\n",
        "print('COCO categories: \\n{}\\n'.format(' '.join(nms)))\n",
        "\n",
        "nms = set([cat['supercategory'] for cat in cats])\n",
        "print('COCO supercategories: \\n{}'.format(' '.join(nms)))"
      ],
      "execution_count": null,
      "outputs": []
    },
    {
      "cell_type": "code",
      "metadata": {
        "id": "slw8Op0ap5dS"
      },
      "source": [
        "catIds = coco.getCatIds(catNms=['person']);\n",
        "imgIds = coco.getImgIds(catIds=catIds );\n",
        "imgIds = coco.getImgIds(imgIds = [458755])\n",
        "img = coco.loadImgs(imgIds[np.random.randint(0,len(imgIds))])[0]"
      ],
      "execution_count": null,
      "outputs": []
    },
    {
      "cell_type": "code",
      "metadata": {
        "id": "-1yNIFdmtZU8"
      },
      "source": [
        "I = io.imread('%s/%s'%(dataDir,img['file_name']))\n",
        "plt.axis('off')\n",
        "plt.imshow(I)\n",
        "plt.show()"
      ],
      "execution_count": null,
      "outputs": []
    },
    {
      "cell_type": "code",
      "metadata": {
        "id": "zcurfT97t1I8"
      },
      "source": [
        "plt.imshow(I); plt.axis('off')\n",
        "annIds = coco.getAnnIds(imgIds=img['id'], catIds=catIds, iscrowd=None)\n",
        "anns = coco.loadAnns(annIds)\n",
        "coco.showAnns(anns)"
      ],
      "execution_count": null,
      "outputs": []
    },
    {
      "cell_type": "markdown",
      "metadata": {
        "id": "9hqJkJA8t2xM"
      },
      "source": [
        "#Model test"
      ]
    },
    {
      "cell_type": "code",
      "metadata": {
        "id": "Px2GT_vy4Hxc"
      },
      "source": [
        "cd /content/drive/Shareddrives/segmentation/train_dataset(update)/train_dataset"
      ],
      "execution_count": null,
      "outputs": []
    },
    {
      "cell_type": "code",
      "metadata": {
        "id": "XmvgzBWLiO5X"
      },
      "source": [
        "!unzip balloon_dataset.zip"
      ],
      "execution_count": null,
      "outputs": []
    },
    {
      "cell_type": "code",
      "metadata": {
        "id": "X45J4z7mzppV"
      },
      "source": [
        "!pip install pyyaml==5.1\n",
        "!pip install torch==1.9.0+cu102 torchvision==0.10.0+cu102 -f https://download.pytorch.org/whl/torch_stable.html\n",
        "!pip install detectron2 -f https://dl.fbaipublicfiles.com/detectron2/wheels/cu102/torch1.9/index.html"
      ],
      "execution_count": null,
      "outputs": []
    },
    {
      "cell_type": "code",
      "metadata": {
        "id": "0VjBvCCM0h5E"
      },
      "source": [
        "import torch, torchvision\n",
        "print(torch.__version__, torch.cuda.is_available())"
      ],
      "execution_count": null,
      "outputs": []
    },
    {
      "cell_type": "code",
      "metadata": {
        "id": "5quxX30ohrc0"
      },
      "source": [
        "from detectron2.structures import BoxMode\n",
        "from detectron2.data import MetadataCatalog, DatasetCatalog\n",
        "import os\n",
        "import json\n",
        "\n",
        "def get_balloon_dicts(img_dir):\n",
        "    json_file = os.path.join(img_dir, 'via_region_data.json')\n",
        "    with open(json_file) as f:\n",
        "        imgs_anns = json.load(f)\n",
        "    \n",
        "    dataset_dixts = []\n",
        "    for idx, v in enumerate(imgs_anns.values()):\n",
        "        record = {}\n",
        "\n",
        "        filename = os.path.join(img_dir, v['filename'])\n",
        "        height, width = cv2.imread(filename).shape[:2]\n",
        "\n",
        "        record['filename'] = filename\n",
        "        record['image_id'] = idx\n",
        "        record['height'] = height\n",
        "        record['width'] = width\n",
        "\n",
        "        annos = v['regions']\n",
        "        objs = []\n",
        "\n",
        "        for _, anno in annos.items():\n",
        "            anno = anno['shape_attributes']\n",
        "            px = anno['all_points_x']\n",
        "            py = anno['all_points_y']\n",
        "            poly = [(x + 0.5, y + 0.5) for x, y in zip(px, py)]\n",
        "            poly = [p for x in poly for p in x]\n",
        "\n",
        "            obj = {\n",
        "                'bbox' : [np.min(px), np.min(py), np.max(px), np.max(py)],\n",
        "                'bbox_mode' : BoxMode.XYXY_ABS,\n",
        "                'segmentation' : [poly],\n",
        "                'category_id' : 0,\n",
        "            }\n",
        "            objs.append(obj)\n",
        "        \n",
        "        record['annotations'] = objs\n",
        "        dataset_dicts.append(record)\n",
        "    return dataset_dicts\n",
        "\n",
        "for d in ['train', 'val']:\n",
        "    DatasetCatalog.register('balloon_' + d, lambda d=d: get_balloon_dicts('balloon/' + d))\n",
        "    MetadataCatalog.get('balloon_' + d).set(thing_classes=['balloon'])\n",
        "\n",
        "balloon_metadata = MetadataCatalog.get('balloon_train')"
      ],
      "execution_count": null,
      "outputs": []
    },
    {
      "cell_type": "code",
      "metadata": {
        "id": "jiu-pgW13LI8"
      },
      "source": [
        "import cv2, random\n",
        "import numpy as np\n",
        "\n",
        "dataset_dicts = get_balloon_dicts('balloon/train')\n",
        "\n",
        "for d in random.sample(dataset_dixts, 3):\n",
        "    img = cv2.imread(d['file_name'])\n",
        "    visualizer = visualizer(img[:, :, ::-1], metadata=balloon_metadata, scale=0.5)\n",
        "    out = visualizer.draw_dataset_dict(d)\n",
        "    cv2_imshow(out.get_image()[:, :, ::-1])"
      ],
      "execution_count": null,
      "outputs": []
    }
  ]
}